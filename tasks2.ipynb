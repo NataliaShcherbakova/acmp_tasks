{
 "cells": [
  {
   "cell_type": "code",
   "execution_count": 12,
   "metadata": {},
   "outputs": [
    {
     "name": "stdout",
     "output_type": "stream",
     "text": [
      "3 2 1 "
     ]
    }
   ],
   "source": [
    "#149\n",
    "n = int(input())\n",
    "w = list(map(int, input().split()))\n",
    "w.reverse()\n",
    "for i in range(n):\n",
    "    print(w[i], end=' ')"
   ]
  },
  {
   "cell_type": "code",
   "execution_count": 13,
   "metadata": {},
   "outputs": [
    {
     "name": "stdout",
     "output_type": "stream",
     "text": [
      "2\n"
     ]
    }
   ],
   "source": [
    "#387\n",
    "n = int(input())\n",
    "k = 0\n",
    "for i in range(n):\n",
    "    s = input()\n",
    "    if s[0] == s[3]:\n",
    "        k += 1\n",
    "print(k)"
   ]
  },
  {
   "cell_type": "code",
   "execution_count": 28,
   "metadata": {},
   "outputs": [
    {
     "name": "stdout",
     "output_type": "stream",
     "text": [
      "0\n"
     ]
    }
   ],
   "source": [
    "#264\n",
    "n = int(input())\n",
    "s = list(map(int, input().split()))\n",
    "k = 0\n",
    "ml = 0\n",
    "for i in range(n):\n",
    "    if s[i] > 0:\n",
    "        k += 1\n",
    "    if s[i] <= 0: \n",
    "        if k > ml:\n",
    "            ml = k\n",
    "        k = 0\n",
    "if k > ml:\n",
    "    ml = k\n",
    "print(ml)            "
   ]
  },
  {
   "cell_type": "code",
   "execution_count": 32,
   "metadata": {},
   "outputs": [
    {
     "name": "stdout",
     "output_type": "stream",
     "text": [
      "9\n"
     ]
    }
   ],
   "source": [
    "#496\n",
    "n = int(input())\n",
    "s = list(map(int, input().split()))\n",
    "k = 0 \n",
    "mk = 0\n",
    "for i in range(n):\n",
    "    k = s[i -1] + s[i]\n",
    "    if i + 1 < n:\n",
    "        k += s[i + 1]\n",
    "    else: k += s[0]\n",
    "    if k > mk:\n",
    "        mk = k   \n",
    "print(mk)   "
   ]
  },
  {
   "cell_type": "code",
   "execution_count": 64,
   "metadata": {},
   "outputs": [
    {
     "name": "stdout",
     "output_type": "stream",
     "text": [
      "NO\n"
     ]
    }
   ],
   "source": [
    "#324\n",
    "w = input()\n",
    "if w[0] == w[3] and w[1] == w[2]:\n",
    "    print('YES')\n",
    "else: print('NO')"
   ]
  },
  {
   "cell_type": "code",
   "execution_count": 136,
   "metadata": {},
   "outputs": [
    {
     "name": "stdout",
     "output_type": "stream",
     "text": [
      "No crush\n"
     ]
    }
   ],
   "source": [
    "#233\n",
    "n = int(input())\n",
    "s = list(map(int, input().split()))\n",
    "for k in range(n):\n",
    "    if s[k] <= 437:\n",
    "        print('Crash ', k+1)\n",
    "        break\n",
    "res = all(k > 437 for k in s)\n",
    "if res == True:\n",
    "     print('No crash')"
   ]
  },
  {
   "cell_type": "code",
   "execution_count": 123,
   "metadata": {},
   "outputs": [
    {
     "name": "stdout",
     "output_type": "stream",
     "text": [
      "1\n"
     ]
    }
   ],
   "source": [
    "#293\n",
    "n = int(input())\n",
    "d = list(map(int, input().split()))\n",
    "p = list(map(int, input().split()))\n",
    "max = 0\n",
    "x = 1\n",
    "for i in range(n):\n",
    "    k = d[i] * p[i] / 100.0\n",
    "    if k == max:\n",
    "        x = x\n",
    "    if k > max:\n",
    "        max = k\n",
    "        x = i + 1\n",
    "print(x)"
   ]
  }
 ],
 "metadata": {
  "kernelspec": {
   "display_name": "Python 3.9.12 ('base')",
   "language": "python",
   "name": "python3"
  },
  "language_info": {
   "codemirror_mode": {
    "name": "ipython",
    "version": 3
   },
   "file_extension": ".py",
   "mimetype": "text/x-python",
   "name": "python",
   "nbconvert_exporter": "python",
   "pygments_lexer": "ipython3",
   "version": "3.9.12 (main, Apr  4 2022, 05:22:27) [MSC v.1916 64 bit (AMD64)]"
  },
  "orig_nbformat": 4,
  "vscode": {
   "interpreter": {
    "hash": "ff4f85d6e04298634172ac5d8264e7e9b556b95639fe52ebb9425c4d4cba0c9c"
   }
  }
 },
 "nbformat": 4,
 "nbformat_minor": 2
}
