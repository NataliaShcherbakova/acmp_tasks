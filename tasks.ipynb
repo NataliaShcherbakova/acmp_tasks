{
 "cells": [
  {
   "cell_type": "code",
   "execution_count": 8,
   "metadata": {},
   "outputs": [
    {
     "name": "stdout",
     "output_type": "stream",
     "text": [
      "Yes\n"
     ]
    }
   ],
   "source": [
    "#68\n",
    "s = input()\n",
    "k = input()\n",
    "x = int(k)\n",
    "if s == \"Home\" or x % 2 == 1:\n",
    "    print('Yes')\n",
    "else: print('No')"
   ]
  },
  {
   "cell_type": "code",
   "execution_count": 4,
   "metadata": {},
   "outputs": [],
   "source": [
    "#106\n",
    "s = input()\n",
    "n = int(s)\n",
    "o = r = 0\n",
    "for i in range(n):\n",
    "    x = input()\n",
    "    k = int(x)\n",
    "    if k == 0:\n",
    "        o += 1\n",
    "    else: r += 1\n",
    "if o <= r:\n",
    "    print(o)\n",
    "else: print(r)"
   ]
  },
  {
   "cell_type": "code",
   "execution_count": 1,
   "metadata": {},
   "outputs": [
    {
     "name": "stdout",
     "output_type": "stream",
     "text": [
      "5\n"
     ]
    }
   ],
   "source": [
    "#43\n",
    "s = input()\n",
    "count_zeros = 0\n",
    "max_len = 0\n",
    "for c in s:\n",
    "    if c == '0':\n",
    "        count_zeros += 1\n",
    "    if c == '1':\n",
    "        if count_zeros > max_len:\n",
    "            max_len = count_zeros\n",
    "        count_zeros = 0\n",
    "if count_zeros > max_len:\n",
    "            max_len = count_zeros\n",
    "print(max_len)"
   ]
  },
  {
   "cell_type": "code",
   "execution_count": 24,
   "metadata": {},
   "outputs": [
    {
     "name": "stdout",
     "output_type": "stream",
     "text": [
      "1  9\n"
     ]
    }
   ],
   "source": [
    "#81\n",
    "k = input()\n",
    "n = int(k)\n",
    "s = input()\n",
    "min = 32000\n",
    "max = 0\n",
    "a = s.split()\n",
    "w = list(map(int, a))\n",
    "for i in range(n):\n",
    "    x = int(a[i])\n",
    "    if x >= max:\n",
    "        max = x\n",
    "    if x < min:\n",
    "        min = x\n",
    "print(min, '', max)"
   ]
  }
 ],
 "metadata": {
  "kernelspec": {
   "display_name": "Python 3.9.12 ('base')",
   "language": "python",
   "name": "python3"
  },
  "language_info": {
   "codemirror_mode": {
    "name": "ipython",
    "version": 3
   },
   "file_extension": ".py",
   "mimetype": "text/x-python",
   "name": "python",
   "nbconvert_exporter": "python",
   "pygments_lexer": "ipython3",
   "version": "3.9.12 (main, Apr  4 2022, 05:22:27) [MSC v.1916 64 bit (AMD64)]"
  },
  "orig_nbformat": 4,
  "vscode": {
   "interpreter": {
    "hash": "ff4f85d6e04298634172ac5d8264e7e9b556b95639fe52ebb9425c4d4cba0c9c"
   }
  }
 },
 "nbformat": 4,
 "nbformat_minor": 2
}
