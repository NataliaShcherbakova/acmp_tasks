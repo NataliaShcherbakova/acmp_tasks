{
 "cells": [
  {
   "cell_type": "code",
   "execution_count": 14,
   "metadata": {},
   "outputs": [
    {
     "name": "stdout",
     "output_type": "stream",
     "text": [
      "=\n"
     ]
    }
   ],
   "source": [
    "#25\n",
    "a = input()\n",
    "b = input()\n",
    "a = int(a)\n",
    "b = int(b)\n",
    "if a > b:\n",
    "    print('>')\n",
    "elif a < b:\n",
    "    print('<')  \n",
    "else: print('=')  "
   ]
  },
  {
   "cell_type": "code",
   "execution_count": 16,
   "metadata": {},
   "outputs": [
    {
     "name": "stdout",
     "output_type": "stream",
     "text": [
      "NO\n"
     ]
    }
   ],
   "source": [
    "#8\n",
    "s = input()\n",
    "w = s.split()\n",
    "a = int(w[0])\n",
    "b = int(w[1])\n",
    "c = int(w[2])\n",
    "if a * b == c:\n",
    "    print('YES')\n",
    "else: print('NO')  "
   ]
  },
  {
   "cell_type": "code",
   "execution_count": 24,
   "metadata": {},
   "outputs": [
    {
     "name": "stdout",
     "output_type": "stream",
     "text": [
      "NO\n"
     ]
    }
   ],
   "source": [
    "#907\n",
    "k = input()\n",
    "a = k.split()\n",
    "w = int(a[0])\n",
    "h = int(a[1])\n",
    "r = int(a[2])\n",
    "if w < h: s1 = w\n",
    "else: s1 = h\n",
    "s2 = 2 * r\n",
    "if s2 <= s1:\n",
    "    print('YES')\n",
    "else: print('NO')"
   ]
  },
  {
   "cell_type": "code",
   "execution_count": 30,
   "metadata": {},
   "outputs": [
    {
     "name": "stdout",
     "output_type": "stream",
     "text": [
      "3\n"
     ]
    }
   ],
   "source": [
    "#539\n",
    "s = input()\n",
    "n = int(s)\n",
    "if n % 2 == 0: \n",
    "    x = n // 2\n",
    "    print(x)\n",
    "elif n == 1: \n",
    "    print('0')\n",
    "else: print(n)"
   ]
  },
  {
   "cell_type": "code",
   "execution_count": 34,
   "metadata": {},
   "outputs": [
    {
     "name": "stdout",
     "output_type": "stream",
     "text": [
      "10 40 10\n"
     ]
    }
   ],
   "source": [
    "#92\n",
    "k = input()\n",
    "s = int(k)\n",
    "n = s // 6\n",
    "k = n * 4\n",
    "print(n, k, n)"
   ]
  },
  {
   "cell_type": "code",
   "execution_count": 38,
   "metadata": {},
   "outputs": [
    {
     "name": "stdout",
     "output_type": "stream",
     "text": [
      "YES\n"
     ]
    }
   ],
   "source": [
    "#597\n",
    "s = input()\n",
    "a = s.split()\n",
    "r1 = int(a[0])\n",
    "r2 = int(a[1])\n",
    "r3 = int(a[2])\n",
    "s1 = r1 * 2\n",
    "s2 = r2 * 2\n",
    "s3 = r3 * 2\n",
    "if s2 + s3 <= s1:\n",
    "    print ('YES')\n",
    "else: print('NO')"
   ]
  }
 ],
 "metadata": {
  "kernelspec": {
   "display_name": "Python 3.9.12 ('base')",
   "language": "python",
   "name": "python3"
  },
  "language_info": {
   "codemirror_mode": {
    "name": "ipython",
    "version": 3
   },
   "file_extension": ".py",
   "mimetype": "text/x-python",
   "name": "python",
   "nbconvert_exporter": "python",
   "pygments_lexer": "ipython3",
   "version": "3.9.12"
  },
  "orig_nbformat": 4,
  "vscode": {
   "interpreter": {
    "hash": "ff4f85d6e04298634172ac5d8264e7e9b556b95639fe52ebb9425c4d4cba0c9c"
   }
  }
 },
 "nbformat": 4,
 "nbformat_minor": 2
}
