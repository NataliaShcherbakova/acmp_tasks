{
 "cells": [
  {
   "cell_type": "code",
   "execution_count": null,
   "metadata": {},
   "outputs": [],
   "source": [
    "#293 but file\n",
    "f_input = open(\"INPUT.TXT\", \"r\")\n",
    "k = f_input.read().split(\"\\n\")\n",
    "n = int(k[0])\n",
    "d = list(map(int, k[1].split()))\n",
    "p = list(map(int, k[2].split()))\n",
    "f_input.close()\n",
    "max = 0\n",
    "x = 1\n",
    "for i in range(n):\n",
    "    k = d[i] * p[i] / 100.0\n",
    "    if k == max:\n",
    "        x = x\n",
    "    if k > max:\n",
    "        max = k\n",
    "        x = i + 1\n",
    "f_output = open(\"OUTPUT.TXT\", \"w\")\n",
    "print(x, file=f_output)\n",
    "f_output.close()"
   ]
  },
  {
   "cell_type": "code",
   "execution_count": 2,
   "metadata": {},
   "outputs": [],
   "source": [
    "#293 but function\n",
    "def in_put():\n",
    "    f_input = open(\"INPUT.TXT\", \"r\")\n",
    "    k = f_input.read().split(\"\\n\")\n",
    "    n = int(k[0])\n",
    "    d = list(map(int, k[1].split()))\n",
    "    p = list(map(int, k[2].split()))\n",
    "    f_input.close()\n",
    "    return n, d, p\n",
    "\n",
    "def calc(n, d, p):\n",
    "    max = 0\n",
    "    x = 1\n",
    "    for i in range(n):\n",
    "        k = d[i] * p[i] / 100.0\n",
    "        if k == max:\n",
    "            x = x\n",
    "        if k > max:\n",
    "            max = k\n",
    "            x = i + 1\n",
    "    return x\n",
    "\n",
    "def out_put(x):\n",
    "    f_output = open(\"OUTPUT.TXT\", \"w\")\n",
    "    print(x, file=f_output)\n",
    "    f_output.close()\n",
    "    return \n",
    "\n",
    "n, d, p = in_put()\n",
    "x = calc(n, d, p)\n",
    "out_put(x)"
   ]
  }
 ],
 "metadata": {
  "kernelspec": {
   "display_name": "Python 3.9.12 ('base')",
   "language": "python",
   "name": "python3"
  },
  "language_info": {
   "codemirror_mode": {
    "name": "ipython",
    "version": 3
   },
   "file_extension": ".py",
   "mimetype": "text/x-python",
   "name": "python",
   "nbconvert_exporter": "python",
   "pygments_lexer": "ipython3",
   "version": "3.9.12 (main, Apr  4 2022, 05:22:27) [MSC v.1916 64 bit (AMD64)]"
  },
  "orig_nbformat": 4,
  "vscode": {
   "interpreter": {
    "hash": "ff4f85d6e04298634172ac5d8264e7e9b556b95639fe52ebb9425c4d4cba0c9c"
   }
  }
 },
 "nbformat": 4,
 "nbformat_minor": 2
}
